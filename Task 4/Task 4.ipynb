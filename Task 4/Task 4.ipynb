{
 "cells": [
  {
   "cell_type": "code",
   "execution_count": null,
   "id": "e1169a43",
   "metadata": {},
   "outputs": [],
   "source": [
    "pip install --user mediapipe opencv-python\n"
   ]
  },
  {
   "cell_type": "code",
   "execution_count": 5,
   "id": "e1036d2d",
   "metadata": {},
   "outputs": [],
   "source": [
    "import cv2\n",
    "import mediapipe as mp\n",
    "\n",
    "def detect_fingers_landmarks(landmarks):\n",
    "    finger_tips = [4, 8, 12, 16, 20]  \n",
    "    finger_letters = ['T', 'I', 'M', 'R', 'B']\n",
    "\n",
    "    for tip, letter in zip(finger_tips, finger_letters):\n",
    "        if tip == 4:  \n",
    "            if landmarks[tip].x < landmarks[tip + 1].x:\n",
    "                x, y = int(landmarks[tip].x * width), int(landmarks[tip].y * height)\n",
    "                cv2.putText(frame, letter, (x - 10, y + 10),\n",
    "                            cv2.FONT_HERSHEY_SIMPLEX, 0.8, (0, 0, 255), 2)  # Red color: (B, G, R) = (0, 0, 255)\n",
    "        elif landmarks[tip].y < landmarks[tip - 1].y:\n",
    "            x, y = int(landmarks[tip].x * width), int(landmarks[tip].y * height)\n",
    "            cv2.putText(frame, letter, (x - 10, y + 10),\n",
    "                        cv2.FONT_HERSHEY_SIMPLEX, 0.8, (0, 0, 255), 2)  # Red color: (B, G, R) = (0, 0, 255)\n",
    "\n",
    "\n",
    "mp_hands = mp.solutions.hands\n",
    "hands = mp_hands.Hands()\n",
    "\n",
    "cap = cv2.VideoCapture(0)  \n",
    "width, height = int(cap.get(3)), int(cap.get(4))\n",
    "out = cv2.VideoWriter('video.mp4', cv2.VideoWriter_fourcc(*'XVID'), 20.0, (width, height))\n",
    "\n",
    "while cap.isOpened():\n",
    "    ret, frame = cap.read()\n",
    "    if not ret:\n",
    "        break\n",
    "\n",
    "    frame = cv2.flip(frame, 1)\n",
    "\n",
    "    rgb_frame = cv2.cvtColor(frame, cv2.COLOR_BGR2RGB)\n",
    "\n",
    "    results = hands.process(rgb_frame)\n",
    "\n",
    "    if results.multi_hand_landmarks:\n",
    "        for landmarks in results.multi_hand_landmarks:\n",
    "\n",
    "            mp_drawing = mp.solutions.drawing_utils\n",
    "            mp_drawing.draw_landmarks(frame, landmarks, mp_hands.HAND_CONNECTIONS)\n",
    "\n",
    "            detect_fingers_landmarks(landmarks.landmark)\n",
    "\n",
    "    cv2.rectangle(frame, (20, 430), (250, 480), (0, 0, 0), -1)\n",
    "    cv2.putText(frame, 'Press \"q\" to exit', (30, 470), cv2.FONT_HERSHEY_SIMPLEX, 1, (255, 255, 255), 2)\n",
    "\n",
    "    out.write(frame)\n",
    "\n",
    "    cv2.imshow('Hand Tracking', frame)\n",
    "\n",
    "    if cv2.waitKey(10) & 0xFF == ord('q'):\n",
    "        break\n",
    "\n",
    "cap.release()\n",
    "out.release()\n",
    "cv2.destroyAllWindows()\n"
   ]
  }
 ],
 "metadata": {
  "kernelspec": {
   "display_name": "Python 3 (ipykernel)",
   "language": "python",
   "name": "python3"
  },
  "language_info": {
   "codemirror_mode": {
    "name": "ipython",
    "version": 3
   },
   "file_extension": ".py",
   "mimetype": "text/x-python",
   "name": "python",
   "nbconvert_exporter": "python",
   "pygments_lexer": "ipython3",
   "version": "3.11.5"
  }
 },
 "nbformat": 4,
 "nbformat_minor": 5
}
