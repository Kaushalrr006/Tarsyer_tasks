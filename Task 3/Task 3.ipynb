{
 "cells": [
  {
   "cell_type": "code",
   "execution_count": 1,
   "id": "2d225a12",
   "metadata": {},
   "outputs": [
    {
     "data": {
      "text/plain": [
       "True"
      ]
     },
     "execution_count": 1,
     "metadata": {},
     "output_type": "execute_result"
    }
   ],
   "source": [
    "import cv2\n",
    "import matplotlib.pyplot as plt\n",
    "\n",
    "\n",
    "img = cv2.imread('Task_3.jpg', 0)  \n",
    "\n",
    "_, simple_threshold = cv2.threshold(img, 127, 255, cv2.THRESH_BINARY)\n",
    "\n",
    "adaptive_threshold = cv2.adaptiveThreshold(img, 255, cv2.ADAPTIVE_THRESH_MEAN_C, cv2.THRESH_BINARY, 11, 2)\n",
    "cv2.imwrite('Task_3_simple.jpg', simple_threshold)\n",
    "cv2.imwrite('Task_3_adaptive.jpg', adaptive_threshold)\n",
    "\n",
    "\n",
    "# Display the images using Matplotlib\n",
    "plt.figure(figsize=(10, 5))\n",
    "\n",
    "# Original Image\n",
    "plt.subplot(1, 3, 1)\n",
    "plt.imshow(img, cmap='gray')\n",
    "plt.title('Original Image')\n",
    "plt.axis('off')\n",
    "\n",
    "# Simple Thresholding\n",
    "plt.subplot(1, 3, 2)\n",
    "plt.imshow(simple_threshold, cmap='gray')\n",
    "plt.title('Simple Thresholding')\n",
    "plt.axis('off')\n",
    "\n",
    "# Adaptive Thresholding\n",
    "plt.subplot(1, 3, 3)\n",
    "plt.imshow(adaptive_threshold, cmap='gray')\n",
    "plt.title('Adaptive Thresholding')\n",
    "plt.axis('off')\n",
    "\n",
    "plt.tight_layout()\n",
    "plt.show()"
   ]
  },
  {
   "cell_type": "code",
   "execution_count": null,
   "id": "ca108325",
   "metadata": {},
   "outputs": [],
   "source": []
  }
 ],
 "metadata": {
  "kernelspec": {
   "display_name": "Python 3 (ipykernel)",
   "language": "python",
   "name": "python3"
  },
  "language_info": {
   "codemirror_mode": {
    "name": "ipython",
    "version": 3
   },
   "file_extension": ".py",
   "mimetype": "text/x-python",
   "name": "python",
   "nbconvert_exporter": "python",
   "pygments_lexer": "ipython3",
   "version": "3.11.5"
  }
 },
 "nbformat": 4,
 "nbformat_minor": 5
}
