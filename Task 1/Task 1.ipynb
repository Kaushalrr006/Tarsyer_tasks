{
 "cells": [
  {
   "cell_type": "code",
   "execution_count": 2,
   "id": "74d45c10",
   "metadata": {},
   "outputs": [],
   "source": [
    "import cv2\n",
    "\n",
    "img = cv2.imread('Task_1.jpg')\n",
    "cv2.namedWindow('Task 1 Image')\n",
    "cv2.imshow('Task 1 Image', img)\n",
    "\n",
    "rectangles = []\n",
    "drawing = False\n",
    "start_x, start_y = -1, -1\n",
    "\n",
    "def draw_rectangle(event, x, y, flags, param):\n",
    "    global start_x, start_y, drawing\n",
    "\n",
    "    if event == cv2.EVENT_LBUTTONDOWN:\n",
    "        drawing = True\n",
    "        start_x, start_y = x, y\n",
    "    elif event == cv2.EVENT_LBUTTONUP:\n",
    "        drawing = False\n",
    "        cv2.rectangle(img, (start_x, start_y), (x, y), (0, 255, 0), 2)\n",
    "        rectangles.append(((start_x, start_y), (x, y)))\n",
    "        cv2.imshow('Task 1 Image', img)\n",
    "\n",
    "cv2.setMouseCallback('Task 1 Image', draw_rectangle)\n",
    "\n",
    "while True:\n",
    "    key = cv2.waitKey(1) & 0xFF\n",
    "    if key == 27:\n",
    "        break\n",
    "    elif key == ord(\"c\"):\n",
    "        break\n",
    "\n",
    "for idx, rect in enumerate(rectangles):\n",
    "    cropped_img = img[min(rect[0][1], rect[1][1]):max(rect[0][1], rect[1][1]),\n",
    "                      min(rect[0][0], rect[1][0]):max(rect[0][0], rect[1][0])]\n",
    "    if cropped_img.size != 0:\n",
    "        cv2.imwrite(f'Task_1_cropped_{idx + 1}.jpg', cropped_img)\n",
    "    else:\n",
    "        print(f\"Error in cropping rectangle {idx + 1}. Skipping...\")\n",
    "\n",
    "insights_img = img.copy()\n",
    "for rect in rectangles:\n",
    "    cv2.rectangle(insights_img, rect[0], rect[1], (0, 255, 0), 2)\n",
    "cv2.imwrite('Task_1_insights.jpg', insights_img)\n",
    "\n",
    "cv2.destroyAllWindows()\n"
   ]
  },
  {
   "cell_type": "code",
   "execution_count": null,
   "id": "e34b68cd",
   "metadata": {},
   "outputs": [],
   "source": []
  },
  {
   "cell_type": "code",
   "execution_count": null,
   "id": "8cb6a6b0",
   "metadata": {},
   "outputs": [],
   "source": []
  }
 ],
 "metadata": {
  "kernelspec": {
   "display_name": "Python 3 (ipykernel)",
   "language": "python",
   "name": "python3"
  },
  "language_info": {
   "codemirror_mode": {
    "name": "ipython",
    "version": 3
   },
   "file_extension": ".py",
   "mimetype": "text/x-python",
   "name": "python",
   "nbconvert_exporter": "python",
   "pygments_lexer": "ipython3",
   "version": "3.11.5"
  }
 },
 "nbformat": 4,
 "nbformat_minor": 5
}
